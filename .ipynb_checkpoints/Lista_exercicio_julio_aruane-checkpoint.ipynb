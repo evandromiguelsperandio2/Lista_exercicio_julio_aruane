{
 "cells": [
  {
   "cell_type": "markdown",
   "id": "e13ce063-f6e6-4e33-bdad-0b384dc63566",
   "metadata": {},
   "source": [
    "**LISTA DE EXERCICIO JULIO E ARUANE**"
   ]
  },
  {
   "cell_type": "markdown",
   "id": "5f845b0a-3b1e-45a1-a3fd-61a02ec5f926",
   "metadata": {},
   "source": [
    "*EXERCICIOS ARUANE*"
   ]
  },
  {
   "cell_type": "code",
   "execution_count": 16,
   "id": "89dd4a3b-7c6c-4cc8-a824-61b08f3d42f7",
   "metadata": {},
   "outputs": [
    {
     "name": "stdout",
     "output_type": "stream",
     "text": [
      "[1, 2]\n",
      "[3, 4]\n"
     ]
    }
   ],
   "source": [
    "# Ex 19\n",
    "matriz = [[1, 2], [3, 4]]\n",
    "\n",
    "for linha in matriz:\n",
    "    print(linha)"
   ]
  },
  {
   "cell_type": "code",
   "execution_count": 17,
   "id": "ab563f06-00b7-4899-9a46-1ae99d5ada2b",
   "metadata": {},
   "outputs": [
    {
     "name": "stdin",
     "output_type": "stream",
     "text": [
      "Digite o elemento da posição [1,1]:  3\n",
      "Digite o elemento da posição [1,2]:  2\n",
      "Digite o elemento da posição [1,3]:  1\n",
      "Digite o elemento da posição [2,1]:  1\n",
      "Digite o elemento da posição [2,2]:  2\n",
      "Digite o elemento da posição [2,3]:  3\n",
      "Digite o elemento da posição [3,1]:  4\n",
      "Digite o elemento da posição [3,2]:  5\n",
      "Digite o elemento da posição [3,3]:  6\n"
     ]
    },
    {
     "name": "stdout",
     "output_type": "stream",
     "text": [
      "\n",
      "Matriz 3x3:\n",
      "[3, 2, 1]\n",
      "[1, 2, 3]\n",
      "[4, 5, 6]\n"
     ]
    }
   ],
   "source": [
    "# Ex 20\n",
    "matriz = []\n",
    "\n",
    "for i in range(3):\n",
    "    linha = []\n",
    "    for j in range(3):\n",
    "        linha.append(int(input(f\"Digite o elemento da posição [{i+1},{j+1}]: \")))\n",
    "    matriz.append(linha)\n",
    "\n",
    "print(\"\\nMatriz 3x3:\")\n",
    "for linha in matriz:\n",
    "    print(linha)"
   ]
  },
  {
   "cell_type": "code",
   "execution_count": 18,
   "id": "612028db-9e5f-43e3-8452-84d3c1b3f2d1",
   "metadata": {},
   "outputs": [
    {
     "name": "stdout",
     "output_type": "stream",
     "text": [
      "Digite os elementos da primeira matriz:\n"
     ]
    },
    {
     "name": "stdin",
     "output_type": "stream",
     "text": [
      "Digite o elemento da posição [1,1]:  1\n",
      "Digite o elemento da posição [1,2]:  2\n",
      "Digite o elemento da posição [2,1]:  3\n",
      "Digite o elemento da posição [2,2]:  4\n"
     ]
    },
    {
     "name": "stdout",
     "output_type": "stream",
     "text": [
      "\n",
      "Digite os elementos da segunda matriz:\n"
     ]
    },
    {
     "name": "stdin",
     "output_type": "stream",
     "text": [
      "Digite o elemento da posição [1,1]:  5\n",
      "Digite o elemento da posição [1,2]:  6\n",
      "Digite o elemento da posição [2,1]:  7\n",
      "Digite o elemento da posição [2,2]:  8\n"
     ]
    },
    {
     "name": "stdout",
     "output_type": "stream",
     "text": [
      "\n",
      "Matriz resultante da soma das duas matrizes:\n",
      "[6, 8]\n",
      "[10, 12]\n"
     ]
    }
   ],
   "source": [
    "# Ex 21\n",
    "def ler_matriz():\n",
    "    matriz = []\n",
    "    for i in range(2):\n",
    "        linha = []\n",
    "        for j in range(2):\n",
    "            linha.append(int(input(f\"Digite o elemento da posição [{i+1},{j+1}]: \")))\n",
    "        matriz.append(linha)\n",
    "    return matriz\n",
    "\n",
    "print(\"Digite os elementos da primeira matriz:\")\n",
    "matriz1 = ler_matriz()\n",
    "\n",
    "print(\"\\nDigite os elementos da segunda matriz:\")\n",
    "matriz2 = ler_matriz()\n",
    "\n",
    "matriz_resultante = []\n",
    "for i in range(2):\n",
    "    linha_resultante = []\n",
    "    for j in range(2):\n",
    "        linha_resultante.append(matriz1[i][j] + matriz2[i][j])\n",
    "    matriz_resultante.append(linha_resultante)\n",
    "\n",
    "print(\"\\nMatriz resultante da soma das duas matrizes:\")\n",
    "for linha in matriz_resultante:\n",
    "    print(linha)"
   ]
  },
  {
   "cell_type": "code",
   "execution_count": 19,
   "id": "45574616-91d1-471f-9cc8-eea4cd388374",
   "metadata": {},
   "outputs": [
    {
     "name": "stdin",
     "output_type": "stream",
     "text": [
      "Digite um número:  5\n"
     ]
    },
    {
     "name": "stdout",
     "output_type": "stream",
     "text": [
      "O dobro de 5.0 é 10.0\n"
     ]
    }
   ],
   "source": [
    "# Ex 22\n",
    "def dobrar_numero(numero):\n",
    "    return numero * 2\n",
    "\n",
    "num = float(input(\"Digite um número: \"))\n",
    "\n",
    "resultado = dobrar_numero(num)\n",
    "print(f\"O dobro de {num} é {resultado}\")"
   ]
  },
  {
   "cell_type": "code",
   "execution_count": 20,
   "id": "3e07bd40-6822-45d0-9018-fb0a6a93a506",
   "metadata": {},
   "outputs": [
    {
     "name": "stdin",
     "output_type": "stream",
     "text": [
      "Digite um número:  6\n"
     ]
    },
    {
     "name": "stdout",
     "output_type": "stream",
     "text": [
      "O número 6 é par.\n"
     ]
    }
   ],
   "source": [
    "# Ex 23\n",
    "def verificar_par_ou_impar(numero):\n",
    "    if numero % 2 == 0:\n",
    "        return \"par\"\n",
    "    else:\n",
    "        return \"ímpar\"\n",
    "\n",
    "num = int(input(\"Digite um número: \"))\n",
    "\n",
    "resultado = verificar_par_ou_impar(num)\n",
    "print(f\"O número {num} é {resultado}.\")"
   ]
  },
  {
   "cell_type": "code",
   "execution_count": 22,
   "id": "68742480-2fcd-4bb1-8281-add2810443fc",
   "metadata": {},
   "outputs": [
    {
     "name": "stdout",
     "output_type": "stream",
     "text": [
      "A soma dos números ímpares na lista é: 25\n"
     ]
    }
   ],
   "source": [
    "# Ex 24\n",
    "def soma_impares(lista):\n",
    "    soma = 0\n",
    "    for numero in lista:\n",
    "        if numero % 2 != 0:\n",
    "            soma += numero\n",
    "    return soma\n",
    "\n",
    "numeros = [1, 2, 3, 4, 5, 6, 7, 8, 9]\n",
    "\n",
    "resultado = soma_impares(numeros)\n",
    "print(f\"A soma dos números ímpares na lista é: {resultado}\")"
   ]
  },
  {
   "cell_type": "code",
   "execution_count": 24,
   "id": "22cc4c86-65d9-494a-b6b7-694408467d1b",
   "metadata": {},
   "outputs": [
    {
     "name": "stdin",
     "output_type": "stream",
     "text": [
      "Digite um número para calcular sua raiz quadrada:  49\n"
     ]
    },
    {
     "name": "stdout",
     "output_type": "stream",
     "text": [
      "A raiz quadrada de 49.0 é 7.00\n"
     ]
    }
   ],
   "source": [
    "# Ex 25\n",
    "import math\n",
    "\n",
    "numero = float(input(\"Digite um número para calcular sua raiz quadrada: \"))\n",
    "\n",
    "if numero < 0:\n",
    "    print(\"Erro: Não é possível calcular a raiz quadrada de um número negativo.\")\n",
    "else:\n",
    "    raiz_quadrada = math.sqrt(numero)\n",
    "\n",
    "    print(f\"A raiz quadrada de {numero} é {raiz_quadrada:.2f}\")\n"
   ]
  },
  {
   "cell_type": "code",
   "execution_count": 27,
   "id": "d62a1bcc-3e6c-434c-85c7-1380ba68599d",
   "metadata": {},
   "outputs": [
    {
     "name": "stdin",
     "output_type": "stream",
     "text": [
      "Digite uma data no formato dd/mm/aaaa:  26/06/2025\n"
     ]
    },
    {
     "name": "stdout",
     "output_type": "stream",
     "text": [
      "O dia da semana correspondente é: Thursday\n"
     ]
    }
   ],
   "source": [
    "# Ex 26\n",
    "import datetime\n",
    "\n",
    "data_str = input(\"Digite uma data no formato dd/mm/aaaa: \")\n",
    "\n",
    "try:\n",
    "    data = datetime.datetime.strptime(data_str, \"%d/%m/%Y\")\n",
    "    dia_semana = data.strftime(\"%A\")\n",
    "    print(f\"O dia da semana correspondente é: {dia_semana}\")\n",
    "except ValueError:\n",
    "    print(\"Erro: O formato da data está incorreto. Por favor, use dd/mm/aaaa.\")"
   ]
  },
  {
   "cell_type": "code",
   "execution_count": 36,
   "id": "1ee8800d-5db7-49ab-a5c4-ef3e1d9c5a3f",
   "metadata": {},
   "outputs": [
    {
     "name": "stdin",
     "output_type": "stream",
     "text": [
      "Digite um número:  100\n"
     ]
    },
    {
     "name": "stdout",
     "output_type": "stream",
     "text": [
      "O valor aleatório entre 1 e 100 é: 69\n"
     ]
    }
   ],
   "source": [
    "# Ex 27\n",
    "import random\n",
    "\n",
    "numero = int(input(\"Digite um número: \"))\n",
    "\n",
    "valor_aleatorio = random.randint(1, numero)\n",
    "\n",
    "print(f\"O valor aleatório entre 1 e {numero} é: {valor_aleatorio}\")"
   ]
  },
  {
   "cell_type": "code",
   "execution_count": 37,
   "id": "bad6d573-638b-4949-ac0b-013cd46f200d",
   "metadata": {},
   "outputs": [
    {
     "name": "stdout",
     "output_type": "stream",
     "text": [
      "Lista de números aleatórios: [93, 34, 4, 93, 65]\n"
     ]
    }
   ],
   "source": [
    "# Ex 28\n",
    "import random\n",
    "\n",
    "numeros_aleatorios = [random.randint(1, 100) for _ in range(5)]\n",
    "\n",
    "print(\"Lista de números aleatórios:\", numeros_aleatorios)"
   ]
  },
  {
   "cell_type": "code",
   "execution_count": 39,
   "id": "86d6ac76-9ca6-4f0f-b1e2-98bb1b219897",
   "metadata": {},
   "outputs": [
    {
     "name": "stdout",
     "output_type": "stream",
     "text": [
      "O resultado do lançamento do dado é: 2\n"
     ]
    }
   ],
   "source": [
    "# Ex 29\n",
    "import random\n",
    "import time\n",
    "\n",
    "resultado = random.randint(1, 6)\n",
    "\n",
    "time.sleep(2)\n",
    "\n",
    "print(f\"O resultado do lançamento do dado é: {resultado}\")"
   ]
  },
  {
   "cell_type": "code",
   "execution_count": 40,
   "id": "cb255c6c-5479-4dd2-85e8-84d1a58e34ae",
   "metadata": {},
   "outputs": [
    {
     "name": "stdout",
     "output_type": "stream",
     "text": [
      "A frase foi escrita no arquivo texto.txt.\n"
     ]
    }
   ],
   "source": [
    "# Ex 30\n",
    "with open('texto.txt', 'w', encoding='utf-8') as arquivo:\n",
    "    arquivo.write(\"Python é incrível!\")\n",
    "\n",
    "print(\"A frase foi escrita no arquivo texto.txt.\")\n"
   ]
  },
  {
   "cell_type": "code",
   "execution_count": 1,
   "id": "14cac82d-a35b-4216-94fb-29cb3346d791",
   "metadata": {},
   "outputs": [
    {
     "name": "stdout",
     "output_type": "stream",
     "text": [
      "Esse Ã© um exemplo de arquivo txt para a lista de exercÃ­cios.\n",
      "\n",
      "\n"
     ]
    }
   ],
   "source": [
    "# Ex 31\n",
    "with open('lista_exercicios.txt', 'r') as arquivo:\n",
    "    conteudo = arquivo.read()\n",
    "    \n",
    "print(conteudo)"
   ]
  },
  {
   "cell_type": "code",
   "execution_count": 2,
   "id": "6e36cd5e-bd9b-44d9-853c-e894b05afadd",
   "metadata": {},
   "outputs": [
    {
     "name": "stdin",
     "output_type": "stream",
     "text": [
      "Digite o nome:  davi\n",
      "Digite o telefone:  11945850321\n"
     ]
    },
    {
     "name": "stdout",
     "output_type": "stream",
     "text": [
      "Contato armazenado com sucesso!\n"
     ]
    }
   ],
   "source": [
    "# Ex 32\n",
    "nome = input(\"Digite o nome: \")\n",
    "telefone = input(\"Digite o telefone: \")\n",
    "\n",
    "with open('contatos.txt', 'a') as arquivo:\n",
    "      arquivo.write(f\"Nome: {nome}, Telefone: {telefone}\\n\")\n",
    "\n",
    "print(\"Contato armazenado com sucesso!\")"
   ]
  },
  {
   "cell_type": "code",
   "execution_count": 41,
   "id": "ee207648-5fe0-408b-963a-69a8cef241f7",
   "metadata": {},
   "outputs": [
    {
     "name": "stdin",
     "output_type": "stream",
     "text": [
      "Digite um número para dividir 100:  4\n"
     ]
    },
    {
     "name": "stdout",
     "output_type": "stream",
     "text": [
      "O resultado de 100 dividido por 4 é 25.0\n"
     ]
    }
   ],
   "source": [
    "# Ex 33\n",
    "numero = int(input(\"Digite um número para dividir 100: \"))\n",
    " \n",
    "if numero == 0:\n",
    "        print(\"Erro: Não é possível dividir por zero!\")\n",
    "else:\n",
    "        resultado = 100 / numero\n",
    "        print(f\"O resultado de 100 dividido por {numero} é {resultado}\")"
   ]
  },
  {
   "cell_type": "code",
   "execution_count": 43,
   "id": "29c768df-845a-42f3-99b7-94824d8d6029",
   "metadata": {},
   "outputs": [
    {
     "name": "stdin",
     "output_type": "stream",
     "text": [
      "Digite um número:  l10\n"
     ]
    },
    {
     "name": "stdout",
     "output_type": "stream",
     "text": [
      "Erro: Por favor, insira um número válido.\n"
     ]
    },
    {
     "name": "stdin",
     "output_type": "stream",
     "text": [
      "Digite um número:  l\n"
     ]
    },
    {
     "name": "stdout",
     "output_type": "stream",
     "text": [
      "Erro: Por favor, insira um número válido.\n"
     ]
    },
    {
     "name": "stdin",
     "output_type": "stream",
     "text": [
      "Digite um número:  s\n"
     ]
    },
    {
     "name": "stdout",
     "output_type": "stream",
     "text": [
      "Erro: Por favor, insira um número válido.\n"
     ]
    },
    {
     "name": "stdin",
     "output_type": "stream",
     "text": [
      "Digite um número:  a10301\n"
     ]
    },
    {
     "name": "stdout",
     "output_type": "stream",
     "text": [
      "Erro: Por favor, insira um número válido.\n"
     ]
    },
    {
     "name": "stdin",
     "output_type": "stream",
     "text": [
      "Digite um número:  10\n"
     ]
    },
    {
     "name": "stdout",
     "output_type": "stream",
     "text": [
      "O número inserido foi: 10.0\n"
     ]
    }
   ],
   "source": [
    "# Ex 34\n",
    "def solicitar_numero():\n",
    "    while True:\n",
    "        try:\n",
    "            numero = float(input(\"Digite um número: \"))\n",
    "            return numero\n",
    "        except ValueError:\n",
    "            print(\"Erro: Por favor, insira um número válido.\")\n",
    "\n",
    "numero = solicitar_numero()\n",
    "\n",
    "print(f\"O número inserido foi: {numero}\")\n"
   ]
  },
  {
   "cell_type": "code",
   "execution_count": 44,
   "id": "7fce5cb8-a4f5-4370-ad44-5bef5a1c0d13",
   "metadata": {},
   "outputs": [
    {
     "name": "stdin",
     "output_type": "stream",
     "text": [
      "Digite um número inteiro:  30\n"
     ]
    },
    {
     "name": "stdout",
     "output_type": "stream",
     "text": [
      "O quadrado de 30 é 900.\n"
     ]
    }
   ],
   "source": [
    "# Ex 35\n",
    "def solicitar_numero_inteiro():\n",
    "    while True:\n",
    "        try:\n",
    "            numero = int(input(\"Digite um número inteiro: \"))\n",
    "            return numero\n",
    "        except ValueError:\n",
    "            print(\"Erro: Por favor, insira um número inteiro válido.\")\n",
    "\n",
    "numero = solicitar_numero_inteiro()\n",
    "\n",
    "quadrado = numero ** 2\n",
    "\n",
    "print(f\"O quadrado de {numero} é {quadrado}.\")"
   ]
  },
  {
   "cell_type": "markdown",
   "id": "7648b60b-30e2-44f4-a926-844178a2247e",
   "metadata": {},
   "source": [
    "*EXERCICIOS JULIO*"
   ]
  },
  {
   "cell_type": "code",
   "execution_count": 46,
   "id": "32119995-9b7f-4db6-a378-bebd4f75c301",
   "metadata": {},
   "outputs": [
    {
     "name": "stdout",
     "output_type": "stream",
     "text": [
      "Soma da linha 3: 65\n",
      "Soma da coluna 2: 60\n",
      "Soma da diagonal principal: 65\n",
      "Soma da diagonal secundária: 65\n",
      "Soma de todos os elementos da matriz: 325\n"
     ]
    }
   ],
   "source": [
    "# Ex 31\n",
    "import numpy as np\n",
    "\n",
    "matriz = np.array([\n",
    "    [1,  2,  3,  4,  5],\n",
    "    [6,  7,  8,  9,  10],\n",
    "    [11, 12, 13, 14, 15],\n",
    "    [16, 17, 18, 19, 20],\n",
    "    [21, 22, 23, 24, 25]\n",
    "])\n",
    "\n",
    "soma_linha_3 = np.sum(matriz[2, :])\n",
    "\n",
    "soma_coluna_2 = np.sum(matriz[:, 1])\n",
    "\n",
    "soma_diagonal_principal = np.sum(np.diag(matriz))\n",
    "\n",
    "soma_diagonal_secundaria = np.sum(np.fliplr(matriz).diagonal())\n",
    "\n",
    "soma_total = np.sum(matriz)\n",
    "\n",
    "print(\"Soma da linha 3:\", soma_linha_3)\n",
    "print(\"Soma da coluna 2:\", soma_coluna_2)\n",
    "print(\"Soma da diagonal principal:\", soma_diagonal_principal)\n",
    "print(\"Soma da diagonal secundária:\", soma_diagonal_secundaria)\n",
    "print(\"Soma de todos os elementos da matriz:\", soma_total)\n"
   ]
  },
  {
   "cell_type": "code",
   "execution_count": 47,
   "id": "3d90bab7-7bc1-4210-8a3c-8861c866d7b5",
   "metadata": {},
   "outputs": [
    {
     "name": "stdout",
     "output_type": "stream",
     "text": [
      "Matriz S (Soma de A e B):\n",
      "[[ 3  5  7  9 11 13]\n",
      " [15 17 19 21 23 25]\n",
      " [27 29 31 33 35 37]\n",
      " [39 41 43 45 47 49]]\n",
      "\n",
      "Matriz D (Diferença de A e B):\n",
      "[[-1 -1 -1 -1 -1 -1]\n",
      " [-1 -1 -1 -1 -1 -1]\n",
      " [-1 -1 -1 -1 -1 -1]\n",
      " [-1 -1 -1 -1 -1 -1]]\n"
     ]
    }
   ],
   "source": [
    "# Ex 32\n",
    "import numpy as np\n",
    "\n",
    "A = np.array([\n",
    "    [1,  2,  3,  4,  5,  6],\n",
    "    [7,  8,  9, 10, 11, 12],\n",
    "    [13, 14, 15, 16, 17, 18],\n",
    "    [19, 20, 21, 22, 23, 24]\n",
    "])\n",
    "\n",
    "B = np.array([\n",
    "    [2,  3,  4,  5,  6,  7],\n",
    "    [8,  9, 10, 11, 12, 13],\n",
    "    [14, 15, 16, 17, 18, 19],\n",
    "    [20, 21, 22, 23, 24, 25]\n",
    "])\n",
    "\n",
    "S = A + B\n",
    "\n",
    "D = A - B\n",
    "\n",
    "# Exibindo os resultados\n",
    "print(\"Matriz S (Soma de A e B):\")\n",
    "print(S)\n",
    "print(\"\\nMatriz D (Diferença de A e B):\")\n",
    "print(D)"
   ]
  },
  {
   "cell_type": "code",
   "execution_count": 48,
   "id": "035f71a8-1cd4-4ec2-ae87-17cf8777a930",
   "metadata": {},
   "outputs": [
    {
     "name": "stdout",
     "output_type": "stream",
     "text": [
      "Soma da linha 2: 26\n",
      "Soma da coluna 3: 36\n",
      "Soma da diagonal principal: 34\n",
      "Soma da diagonal secundária: 34\n",
      "Soma de todos os elementos da matriz: 136\n"
     ]
    }
   ],
   "source": [
    "# Ex 33\n",
    "import numpy as np\n",
    "\n",
    "A = np.array([\n",
    "    [1,  2,  3,  4],\n",
    "    [5,  6,  7,  8],\n",
    "    [9, 10, 11, 12],\n",
    "    [13, 14, 15, 16]\n",
    "])\n",
    "\n",
    "soma_linha_2 = 0\n",
    "soma_coluna_3 = 0\n",
    "soma_diagonal_principal = 0\n",
    "soma_diagonal_secundaria = 0\n",
    "soma_total = 0\n",
    "\n",
    "\n",
    "for i in range(4):\n",
    "    for j in range(4):\n",
    "        soma_total += A[i, j]\n",
    "        if i == 1:\n",
    "            soma_linha_2 += A[i, j] \n",
    "        if j == 2:\n",
    "            soma_coluna_3 += A[i, j] \n",
    "        if i == j:\n",
    "            soma_diagonal_principal += A[i, j]\n",
    "        if i + j == 3:\n",
    "            soma_diagonal_secundaria += A[i, j] \n",
    "\n",
    "print(\"Soma da linha 2:\", soma_linha_2)\n",
    "print(\"Soma da coluna 3:\", soma_coluna_3)\n",
    "print(\"Soma da diagonal principal:\", soma_diagonal_principal)\n",
    "print(\"Soma da diagonal secundária:\", soma_diagonal_secundaria)\n",
    "print(\"Soma de todos os elementos da matriz:\", soma_total)\n"
   ]
  },
  {
   "cell_type": "code",
   "execution_count": 50,
   "id": "0927af7b-9862-4463-89ec-4a2a92f0870c",
   "metadata": {},
   "outputs": [
    {
     "name": "stdin",
     "output_type": "stream",
     "text": [
      "Digite um número para verificar se está na matriz:  99\n"
     ]
    },
    {
     "name": "stdout",
     "output_type": "stream",
     "text": [
      "O número 99 NÃO existe na matriz.\n"
     ]
    }
   ],
   "source": [
    "# Ex 34\n",
    "import numpy as np\n",
    "\n",
    "D = np.array([\n",
    "    [1,  2,  3,  4,  5],\n",
    "    [6,  7,  8,  9, 10],\n",
    "    [11, 12, 13, 14, 15],\n",
    "    [16, 17, 18, 19, 20],\n",
    "    [21, 22, 23, 24, 25]\n",
    "])\n",
    "\n",
    "X = int(input(\"Digite um número para verificar se está na matriz: \"))\n",
    "\n",
    "if X in D:\n",
    "    print(f\"O número {X} EXISTE na matriz.\")\n",
    "else:\n",
    "    print(f\"O número {X} NÃO existe na matriz.\")\n"
   ]
  },
  {
   "cell_type": "code",
   "execution_count": 51,
   "id": "8a4409b9-2e9b-4409-bd52-848cf6ffc06a",
   "metadata": {},
   "outputs": [
    {
     "name": "stdout",
     "output_type": "stream",
     "text": [
      "Vetor SL (somas das linhas): [ 15  40  65  90 115]\n",
      "Vetor SC (somas das colunas): [55 60 65 70 75]\n"
     ]
    }
   ],
   "source": [
    "# Ex 35\n",
    "import numpy as np\n",
    "\n",
    "G = np.array([\n",
    "    [1,  2,  3,  4,  5],\n",
    "    [6,  7,  8,  9, 10],\n",
    "    [11, 12, 13, 14, 15],\n",
    "    [16, 17, 18, 19, 20],\n",
    "    [21, 22, 23, 24, 25]\n",
    "])\n",
    "\n",
    "SL = np.sum(G, axis=1)\n",
    "SC = np.sum(G, axis=0)  \n",
    "\n",
    "print(\"Vetor SL (somas das linhas):\", SL)\n",
    "print(\"Vetor SC (somas das colunas):\", SC)"
   ]
  },
  {
   "cell_type": "code",
   "execution_count": 52,
   "id": "f4721758-6ced-46db-b0d5-31ab6749693b",
   "metadata": {},
   "outputs": [
    {
     "name": "stdout",
     "output_type": "stream",
     "text": [
      "Matriz A modificada:\n",
      "[[0 0 0 0 0 0 0 0 0 0 0 1 0]\n",
      " [0 0 0 0 0 0 0 0 0 0 0 1 0]\n",
      " [0 0 0 0 0 0 0 0 0 0 1 0 0]\n",
      " [0 0 1 0 0 0 0 0 0 0 0 0 0]\n",
      " [0 0 1 0 0 0 0 0 0 0 0 0 0]\n",
      " [0 0 0 0 1 0 0 0 0 0 0 0 0]\n",
      " [0 0 0 0 0 0 0 0 0 0 0 1 0]\n",
      " [1 0 0 0 0 0 0 0 0 0 0 0 0]\n",
      " [0 0 0 0 0 0 0 0 0 1 0 0 0]\n",
      " [0 0 0 0 1 0 0 0 0 0 0 0 0]\n",
      " [0 0 0 0 0 0 0 0 0 0 1 0 0]\n",
      " [0 0 0 1 0 0 0 0 0 0 0 0 0]]\n"
     ]
    }
   ],
   "source": [
    "# Ex 36\n",
    "import numpy as np\n",
    "\n",
    "A = np.random.randint(1, 100, (12, 13))\n",
    "\n",
    "for i in range(12):\n",
    "    max_val = np.max(A[i, :])\n",
    "    A[i, :] = A[i, :] / max_val\n",
    "\n",
    "print(\"Matriz A modificada:\")\n",
    "print(A)"
   ]
  },
  {
   "cell_type": "code",
   "execution_count": 54,
   "id": "01e90810-cdb4-49dc-a3cf-8fd1e126b4c6",
   "metadata": {},
   "outputs": [
    {
     "name": "stdout",
     "output_type": "stream",
     "text": [
      "Vetor G (Gabarito da loteria esportiva):\n",
      "[2 3 3 2 3 3 2 1 2 2 2 1 3]\n"
     ]
    }
   ],
   "source": [
    "# Ex 37\n",
    "import numpy as np\n",
    "\n",
    "G = np.random.choice([1, 2, 3], 13)\n",
    "\n",
    "print(\"Vetor G (Gabarito da loteria esportiva):\")\n",
    "print(G)"
   ]
  },
  {
   "cell_type": "code",
   "execution_count": 56,
   "id": "8193d6cf-f1a9-4cb2-8f47-50f95ba9335d",
   "metadata": {},
   "outputs": [
    {
     "name": "stdout",
     "output_type": "stream",
     "text": [
      "Vetor G (Gabarito da loteria esportiva): [1 3 1 3 3 1 1 3 1 2 1 2 1]\n",
      "Matriz de apostas:\n",
      "[[1 0 1]\n",
      " [1 1 1]\n",
      " [1 0 0]\n",
      " [0 0 1]\n",
      " [1 1 1]\n",
      " [0 0 1]\n",
      " [1 1 0]\n",
      " [1 1 0]\n",
      " [1 1 1]\n",
      " [0 1 1]\n",
      " [0 1 1]\n",
      " [1 1 1]\n",
      " [0 1 0]]\n",
      "Número de acertos: 9\n",
      "Apostas simples: 4\n",
      "Apostas duplas: 5\n",
      "Apostas triplas: 4\n"
     ]
    }
   ],
   "source": [
    "# Ex 38\n",
    "import numpy as np\n",
    "\n",
    "G = np.random.choice([1, 2, 3], 13)\n",
    "\n",
    "Apostas = np.random.choice([0, 1], (13, 3)) \n",
    "\n",
    "\n",
    "acertos = 0\n",
    "apostas_simples = 0\n",
    "apostas_duplas = 0\n",
    "apostas_triplas = 0\n",
    "\n",
    "for i in range(13):\n",
    "    if Apostas[i, G[i] - 1] == 1:\n",
    "        acertos += 1\n",
    "    total_apostas = np.sum(Apostas[i, :])\n",
    "    if total_apostas == 1:\n",
    "        apostas_simples += 1\n",
    "    elif total_apostas == 2:\n",
    "        apostas_duplas += 1\n",
    "    elif total_apostas == 3:\n",
    "        apostas_triplas += 1\n",
    "\n",
    "print(\"Vetor G (Gabarito da loteria esportiva):\", G)\n",
    "print(\"Matriz de apostas:\")\n",
    "print(Apostas)\n",
    "print(\"Número de acertos:\", acertos)\n",
    "print(\"Apostas simples:\", apostas_simples)\n",
    "print(\"Apostas duplas:\", apostas_duplas)\n",
    "print(\"Apostas triplas:\", apostas_triplas)"
   ]
  },
  {
   "cell_type": "code",
   "execution_count": 59,
   "id": "2df2378f-8810-4853-974f-3725eb73602d",
   "metadata": {},
   "outputs": [
    {
     "name": "stdout",
     "output_type": "stream",
     "text": [
      "Escolha a operação:\n",
      "1 - Soma\n",
      "2 - Subtração\n",
      "3 - Multiplicação\n",
      "4 - Divisão\n"
     ]
    },
    {
     "name": "stdin",
     "output_type": "stream",
     "text": [
      "Digite o número da operação desejada:  3\n",
      "Digite o primeiro valor:  30\n",
      "Digite o segundo valor:  10\n"
     ]
    },
    {
     "name": "stdout",
     "output_type": "stream",
     "text": [
      "Resultado: 300.0\n"
     ]
    }
   ],
   "source": [
    "# Ex 39\n",
    "def soma(a, b):\n",
    "    return a + b\n",
    "\n",
    "def subtracao(a, b):\n",
    "    return a - b\n",
    "\n",
    "def multiplicacao(a, b):\n",
    "    return a * b\n",
    "\n",
    "def divisao(a, b):\n",
    "    if b == 0:\n",
    "        return \"Erro: Divisão por zero\"\n",
    "    return a / b\n",
    "\n",
    "def calculadora():\n",
    "    print(\"Escolha a operação:\")\n",
    "    print(\"1 - Soma\")\n",
    "    print(\"2 - Subtração\")\n",
    "    print(\"3 - Multiplicação\")\n",
    "    print(\"4 - Divisão\")\n",
    "    \n",
    "    opcao = input(\"Digite o número da operação desejada: \")\n",
    "    if opcao not in ['1', '2', '3', '4']:\n",
    "        print(\"Opção inválida!\")\n",
    "        return\n",
    "    \n",
    "    a = float(input(\"Digite o primeiro valor: \"))\n",
    "    b = float(input(\"Digite o segundo valor: \"))\n",
    "    \n",
    "    if opcao == '1':\n",
    "        resultado = soma(a, b)\n",
    "    elif opcao == '2':\n",
    "        resultado = subtracao(a, b)\n",
    "    elif opcao == '3':\n",
    "        resultado = multiplicacao(a, b)\n",
    "    elif opcao == '4':\n",
    "        resultado = divisao(a, b)\n",
    "    \n",
    "    print(f\"Resultado: {resultado}\")\n",
    "\n",
    "calculadora()"
   ]
  },
  {
   "cell_type": "code",
   "execution_count": 61,
   "id": "e909b149-dd2f-4008-8601-3309e9eb3d9c",
   "metadata": {},
   "outputs": [
    {
     "name": "stdout",
     "output_type": "stream",
     "text": [
      "Escolha a operação:\n",
      "1 - Soma\n",
      "2 - Subtração\n",
      "3 - Multiplicação\n",
      "4 - Divisão\n"
     ]
    },
    {
     "name": "stdin",
     "output_type": "stream",
     "text": [
      "Digite o número da operação desejada:  1\n",
      "Digite o primeiro valor:  12\n",
      "Digite o segundo valor:  30\n"
     ]
    },
    {
     "name": "stdout",
     "output_type": "stream",
     "text": [
      "Resultado: 42.0\n"
     ]
    }
   ],
   "source": [
    "# Ex 40\n",
    "def soma(a, b):\n",
    "    return a + b\n",
    "\n",
    "def subtracao(a, b):\n",
    "    return a - b\n",
    "\n",
    "def multiplicacao(a, b):\n",
    "    resultado = 0\n",
    "    for _ in range(abs(int(b))):\n",
    "        resultado = soma(resultado, a)\n",
    "    return resultado if b >= 0 else -resultado\n",
    "def divisao(a, b):\n",
    "    if b == 0:\n",
    "        return \"Erro: Divisão por zero\"\n",
    "    return a / b\n",
    "\n",
    "def calculadora():\n",
    "    print(\"Escolha a operação:\")\n",
    "    print(\"1 - Soma\")\n",
    "    print(\"2 - Subtração\")\n",
    "    print(\"3 - Multiplicação\")\n",
    "    print(\"4 - Divisão\")\n",
    "    \n",
    "    opcao = input(\"Digite o número da operação desejada: \")\n",
    "    if opcao not in ['1', '2', '3', '4']:\n",
    "        print(\"Opção inválida!\")\n",
    "        return\n",
    "    \n",
    "    a = float(input(\"Digite o primeiro valor: \"))\n",
    "    b = float(input(\"Digite o segundo valor: \"))\n",
    "    \n",
    "    if opcao == '1':\n",
    "        resultado = soma(a, b)\n",
    "    elif opcao == '2':\n",
    "        resultado = subtracao(a, b)\n",
    "    elif opcao == '3':\n",
    "        resultado = multiplicacao(a, b)\n",
    "    elif opcao == '4':\n",
    "        resultado = divisao(a, b)\n",
    "    \n",
    "    print(f\"Resultado: {resultado}\")\n",
    "\n",
    "calculadora()\n"
   ]
  },
  {
   "cell_type": "code",
   "execution_count": 62,
   "id": "00b9483f-4aaa-4b29-84c5-46e676e73228",
   "metadata": {},
   "outputs": [
    {
     "name": "stdin",
     "output_type": "stream",
     "text": [
      "Digite a distância percorrida (em metros):  300\n",
      "Digite o tempo gasto (em segundos):  1000\n"
     ]
    },
    {
     "name": "stdout",
     "output_type": "stream",
     "text": [
      "Velocidade média: 0.3 m/s\n"
     ]
    }
   ],
   "source": [
    "# Ex 41\n",
    "def velocidade_media(distancia, tempo):\n",
    "    if tempo == 0:\n",
    "        return \"Erro: Tempo não pode ser zero\"\n",
    "    return distancia / tempo\n",
    "\n",
    "distancia = float(input(\"Digite a distância percorrida (em metros): \"))\n",
    "tempo = float(input(\"Digite o tempo gasto (em segundos): \"))\n",
    "resultado = velocidade_media(distancia, tempo)\n",
    "print(f\"Velocidade média: {resultado} m/s\")\n"
   ]
  },
  {
   "cell_type": "code",
   "execution_count": 63,
   "id": "0d5426d3-f59a-436d-87e1-f62254aa859a",
   "metadata": {},
   "outputs": [
    {
     "name": "stdin",
     "output_type": "stream",
     "text": [
      "Digite a distância percorrida (em metros):  20\n",
      "Digite o tempo gasto (em segundos):  40\n"
     ]
    },
    {
     "name": "stdout",
     "output_type": "stream",
     "text": [
      "Velocidade média: 0.5 m/s\n"
     ]
    }
   ],
   "source": [
    "# Ex 42\n",
    "def divisao(a, b):\n",
    "    if b == 0:\n",
    "        return \"Erro: Tempo não pode ser zero\"\n",
    "    return a / b\n",
    "\n",
    "def velocidade_media(distancia, tempo):\n",
    "    return divisao(distancia, tempo)\n",
    "\n",
    "distancia = float(input(\"Digite a distância percorrida (em metros): \"))\n",
    "tempo = float(input(\"Digite o tempo gasto (em segundos): \"))\n",
    "resultado = velocidade_media(distancia, tempo)\n",
    "print(f\"Velocidade média: {resultado} m/s\")"
   ]
  },
  {
   "cell_type": "code",
   "execution_count": 66,
   "id": "4c4929e8-6ad1-4571-96c0-238a89b924e0",
   "metadata": {},
   "outputs": [
    {
     "name": "stdin",
     "output_type": "stream",
     "text": [
      "Digite um número:  391\n"
     ]
    },
    {
     "name": "stdout",
     "output_type": "stream",
     "text": [
      "Crescente: 139\n",
      "Decrescente: 931\n",
      "Reverso: 193\n"
     ]
    }
   ],
   "source": [
    "# Ex 43\n",
    "def organizar_numeros(numero):\n",
    "    numero_str = str(numero)\n",
    "    crescente = ''.join(sorted(numero_str))\n",
    "    decrescente = ''.join(sorted(numero_str, reverse=True))\n",
    "    reverso = numero_str[::-1]\n",
    "    return crescente, decrescente, reverso\n",
    "\n",
    "# Exemplo de uso\n",
    "numero = input(\"Digite um número: \")\n",
    "crescente, decrescente, reverso = organizar_numeros(numero)\n",
    "print(f\"Crescente: {crescente}\")\n",
    "print(f\"Decrescente: {decrescente}\")\n",
    "print(f\"Reverso: {reverso}\")"
   ]
  },
  {
   "cell_type": "code",
   "execution_count": 67,
   "id": "3d622a84-039f-4195-abd4-c7e0d16c978b",
   "metadata": {},
   "outputs": [
    {
     "name": "stdin",
     "output_type": "stream",
     "text": [
      "Digite as horas (0-23):  12\n",
      "Digite os minutos (0-59):  34\n"
     ]
    },
    {
     "name": "stdout",
     "output_type": "stream",
     "text": [
      "12:34 P.M.\n"
     ]
    },
    {
     "name": "stdin",
     "output_type": "stream",
     "text": [
      "Deseja converter outro horário? (S/N):  S\n",
      "Digite as horas (0-23):  0\n",
      "Digite os minutos (0-59):  10\n"
     ]
    },
    {
     "name": "stdout",
     "output_type": "stream",
     "text": [
      "12:10 A.M.\n"
     ]
    },
    {
     "name": "stdin",
     "output_type": "stream",
     "text": [
      "Deseja converter outro horário? (S/N):  n\n"
     ]
    }
   ],
   "source": [
    "# Ex 44\n",
    "def converter_para_12_horas(horas, minutos):\n",
    "    periodo = 'A' if horas < 12 else 'P'\n",
    "    horas_12 = horas % 12\n",
    "    if horas_12 == 0:\n",
    "        horas_12 = 12\n",
    "    return horas_12, minutos, periodo\n",
    "\n",
    "def exibir_horario(horas, minutos, periodo):\n",
    "    periodo_str = 'A.M.' if periodo == 'A' else 'P.M.'\n",
    "    print(f\"{horas}:{minutos:02d} {periodo_str}\")\n",
    "\n",
    "while True:\n",
    "    horas = int(input(\"Digite as horas (0-23): \"))\n",
    "    minutos = int(input(\"Digite os minutos (0-59): \"))\n",
    "    if 0 <= horas < 24 and 0 <= minutos < 60:\n",
    "        horas_12, minutos, periodo = converter_para_12_horas(horas, minutos)\n",
    "        exibir_horario(horas_12, minutos, periodo)\n",
    "    else:\n",
    "        print(\"Horário inválido. Tente novamente.\")\n",
    "    \n",
    "    repetir = input(\"Deseja converter outro horário? (S/N): \").strip().upper()\n",
    "    if repetir != 'S':\n",
    "        break"
   ]
  },
  {
   "cell_type": "code",
   "execution_count": 68,
   "id": "5d9701ad-2cc0-4382-be2b-b3459c97e161",
   "metadata": {},
   "outputs": [
    {
     "name": "stdin",
     "output_type": "stream",
     "text": [
      "Digite uma data (DD/MM/AAAA):  26/06/2007\n"
     ]
    },
    {
     "name": "stdout",
     "output_type": "stream",
     "text": [
      "26 de June de 2007\n"
     ]
    }
   ],
   "source": [
    "# Ex 45\n",
    "import calendar\n",
    "\n",
    "def validar_data(dia, mes, ano):\n",
    "    if mes < 1 or mes > 12:\n",
    "        return False\n",
    "    if dia < 1 or dia > calendar.monthrange(ano, mes)[1]:\n",
    "        return False\n",
    "    return True\n",
    "\n",
    "def data_por_extenso(data):\n",
    "    try:\n",
    "        dia, mes, ano = map(int, data.split('/'))\n",
    "        if not validar_data(dia, mes, ano):\n",
    "            return None\n",
    "        nome_mes = calendar.month_name[mes]\n",
    "        return f\"{dia} de {nome_mes} de {ano}\"\n",
    "    except ValueError:\n",
    "        return None\n",
    "\n",
    "data = input(\"Digite uma data (DD/MM/AAAA): \")\n",
    "resultado = data_por_extenso(data)\n",
    "if resultado:\n",
    "    print(resultado)\n",
    "else:\n",
    "    print(\"Data inválida.\")\n"
   ]
  }
 ],
 "metadata": {
  "kernelspec": {
   "display_name": "Python 3 (ipykernel)",
   "language": "python",
   "name": "python3"
  },
  "language_info": {
   "codemirror_mode": {
    "name": "ipython",
    "version": 3
   },
   "file_extension": ".py",
   "mimetype": "text/x-python",
   "name": "python",
   "nbconvert_exporter": "python",
   "pygments_lexer": "ipython3",
   "version": "3.12.7"
  }
 },
 "nbformat": 4,
 "nbformat_minor": 5
}
